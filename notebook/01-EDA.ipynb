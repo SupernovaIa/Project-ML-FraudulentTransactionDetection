{
 "cells": [
  {
   "cell_type": "code",
   "execution_count": null,
   "metadata": {},
   "outputs": [],
   "source": [
    "# Data processing  \n",
    "# -----------------------------------------------------------------------  \n",
    "import pandas as pd  \n",
    "\n",
    "# Pandas options  \n",
    "# -----------------------------------------------------------------------  \n",
    "pd.options.display.max_colwidth = None\n",
    "\n",
    "# Path configuration for custom module imports  \n",
    "# -----------------------------------------------------------------------  \n",
    "import sys  \n",
    "sys.path.append('../')  # Adds the parent directory to the path for custom module imports  \n",
    "\n",
    "# Ignore warnings  \n",
    "# -----------------------------------------------------------------------  \n",
    "import warnings  \n",
    "warnings.filterwarnings(\"ignore\") \n",
    "\n",
    "# Custom functions\n",
    "# -----------------------------------------------------------------------\n",
    "\n",
    "#from src.support_eda import plot_categoric_distribution, plot_correlation_matrix, plot_numeric_distribution, plot_relation_tv_numeric, plot_outliers, quick_plot_numeric, value_counts, plot_groupby_median"
   ]
  }
 ],
 "metadata": {
  "kernelspec": {
   "display_name": "proyecto7",
   "language": "python",
   "name": "python3"
  },
  "language_info": {
   "name": "python",
   "version": "3.12.7"
  }
 },
 "nbformat": 4,
 "nbformat_minor": 2
}
